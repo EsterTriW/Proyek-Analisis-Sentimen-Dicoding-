{
  "nbformat": 4,
  "nbformat_minor": 0,
  "metadata": {
    "colab": {
      "provenance": []
    },
    "kernelspec": {
      "name": "python3",
      "display_name": "Python 3"
    },
    "language_info": {
      "name": "python"
    }
  },
  "cells": [
    {
      "cell_type": "code",
      "execution_count": 1,
      "metadata": {
        "id": "6J1z-CpL8qlN"
      },
      "outputs": [],
      "source": [
        "from tensorflow.keras.models import load_model\n",
        "import joblib\n",
        "from tensorflow.keras.preprocessing.sequence import pad_sequences\n",
        "import numpy as np"
      ]
    },
    {
      "cell_type": "code",
      "source": [
        "# Load model dan tokenizer\n",
        "model = load_model('lstm_model_traveloka.h5')\n",
        "tokenizer = joblib.load('tokenizer_traveloka.pkl')"
      ],
      "metadata": {
        "id": "xjGkGaOuAe8F",
        "outputId": "ad3db643-79bd-47b5-be89-b65d9bc6117d",
        "colab": {
          "base_uri": "https://localhost:8080/"
        }
      },
      "execution_count": 2,
      "outputs": [
        {
          "output_type": "stream",
          "name": "stderr",
          "text": [
            "WARNING:absl:Compiled the loaded model, but the compiled metrics have yet to be built. `model.compile_metrics` will be empty until you train or evaluate the model.\n"
          ]
        }
      ]
    },
    {
      "cell_type": "code",
      "source": [
        "# Setting sama seperti training\n",
        "maxlen = 100\n",
        "\n",
        "# Contoh kalimat baru\n",
        "kalimat_baru = [\n",
        "    \"Suka sekali dengan aplikasi ini, sangat membantu dan banyak promo.\",\n",
        "    \"Aplikasinya error terus, sangat mengecewakan.\",\n",
        "    \"Cukup baik, namun perlu ditingkatkan aplikasinya.\"\n",
        "]\n",
        "\n",
        "# Tokenisasi & padding\n",
        "sequence_baru = tokenizer.texts_to_sequences(kalimat_baru)\n",
        "padded_baru = pad_sequences(sequence_baru, maxlen=maxlen, padding='post')\n",
        "\n",
        "# Prediksi\n",
        "prediksi = model.predict(padded_baru)\n",
        "\n",
        "# Interpretasi hasil\n",
        "label_map = {0: \"Negatif\", 1: \"Netral\", 2: \"Positif\"}\n",
        "for kalimat, hasil in zip(kalimat_baru, prediksi):\n",
        "    label = np.argmax(hasil)\n",
        "    print(f'\"{kalimat}\" -> Prediksi Sentimen: {label_map[label]}')"
      ],
      "metadata": {
        "colab": {
          "base_uri": "https://localhost:8080/"
        },
        "id": "8ZJ6LWa0Bm2p",
        "outputId": "5313782d-6401-4469-b2ff-5833551bf140"
      },
      "execution_count": 4,
      "outputs": [
        {
          "output_type": "stream",
          "name": "stdout",
          "text": [
            "\u001b[1m1/1\u001b[0m \u001b[32m━━━━━━━━━━━━━━━━━━━━\u001b[0m\u001b[37m\u001b[0m \u001b[1m0s\u001b[0m 53ms/step\n",
            "\"Suka sekali dengan aplikasi ini, sangat membantu dan banyak promo.\" -> Prediksi Sentimen: Positif\n",
            "\"Aplikasinya error terus, sangat mengecewakan.\" -> Prediksi Sentimen: Negatif\n",
            "\"Cukup baik, namun perlu ditingkatkan aplikasinya.\" -> Prediksi Sentimen: Netral\n"
          ]
        }
      ]
    },
    {
      "cell_type": "markdown",
      "source": [
        "**Insight Text Preprocessing dan Pelabelan**\n",
        "1. Model mampu menangkap sentimen positif, negatif, dan netral\n",
        "2. Kemampuan generalisasi model baik dibuktikan dengan prediksi sentimen yang sesuai"
      ],
      "metadata": {
        "id": "bHiTBgfDHwXy"
      }
    }
  ]
}