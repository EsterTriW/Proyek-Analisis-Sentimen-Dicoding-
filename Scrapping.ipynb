{
  "nbformat": 4,
  "nbformat_minor": 0,
  "metadata": {
    "colab": {
      "provenance": []
    },
    "kernelspec": {
      "name": "python3",
      "display_name": "Python 3"
    },
    "language_info": {
      "name": "python"
    }
  },
  "cells": [
    {
      "cell_type": "markdown",
      "source": [
        "# Import Library"
      ],
      "metadata": {
        "id": "Zdfj-st60fHP"
      }
    },
    {
      "cell_type": "code",
      "execution_count": null,
      "metadata": {
        "colab": {
          "base_uri": "https://localhost:8080/"
        },
        "id": "rENNtudWzyBr",
        "outputId": "d4e0667b-87b5-4409-8266-ee00cddfa8fe"
      },
      "outputs": [
        {
          "output_type": "stream",
          "name": "stdout",
          "text": [
            "Collecting google-play-scraper\n",
            "  Downloading google_play_scraper-1.2.7-py3-none-any.whl.metadata (50 kB)\n",
            "\u001b[?25l     \u001b[90m━━━━━━━━━━━━━━━━━━━━━━━━━━━━━━━━━━━━━━━━\u001b[0m \u001b[32m0.0/50.2 kB\u001b[0m \u001b[31m?\u001b[0m eta \u001b[36m-:--:--\u001b[0m\r\u001b[2K     \u001b[91m━━━━━━━━━━━━━━━━━━━━━━━━━━━━━━━━\u001b[0m\u001b[91m╸\u001b[0m\u001b[90m━━━━━━━\u001b[0m \u001b[32m41.0/50.2 kB\u001b[0m \u001b[31m28.2 MB/s\u001b[0m eta \u001b[36m0:00:01\u001b[0m\r\u001b[2K     \u001b[90m━━━━━━━━━━━━━━━━━━━━━━━━━━━━━━━━━━━━━━━━\u001b[0m \u001b[32m50.2/50.2 kB\u001b[0m \u001b[31m988.0 kB/s\u001b[0m eta \u001b[36m0:00:00\u001b[0m\n",
            "\u001b[?25hDownloading google_play_scraper-1.2.7-py3-none-any.whl (28 kB)\n",
            "Installing collected packages: google-play-scraper\n",
            "Successfully installed google-play-scraper-1.2.7\n"
          ]
        }
      ],
      "source": [
        "!pip install google-play-scraper\n",
        "from google_play_scraper import reviews\n",
        "import time\n",
        "import pandas as pd"
      ]
    },
    {
      "cell_type": "markdown",
      "source": [
        "# Scrapping Data"
      ],
      "metadata": {
        "id": "R9sQ27Ft3EIz"
      }
    },
    {
      "cell_type": "code",
      "source": [
        "app_name = 'Traveloka'\n",
        "app_id = 'com.traveloka.android'  # app_id Traveloka dari Play Store\n",
        "TARGET = 15000\n",
        "\n",
        "print(f\"Scraping {app_name}...\")\n",
        "Traveloka_reviews = []\n",
        "next_token = None\n",
        "\n",
        "while len(Traveloka_reviews) < TARGET:\n",
        "    result, next_token = reviews(\n",
        "        app_id,\n",
        "        lang='id',\n",
        "        country='id',\n",
        "        count=200,\n",
        "        continuation_token=next_token\n",
        "    )\n",
        "    Traveloka_reviews.extend(result)\n",
        "    time.sleep(1)"
      ],
      "metadata": {
        "id": "ys6JCCPN4H15",
        "outputId": "db0381b0-610f-4b84-d930-8563410b4343",
        "colab": {
          "base_uri": "https://localhost:8080/"
        }
      },
      "execution_count": null,
      "outputs": [
        {
          "output_type": "stream",
          "name": "stdout",
          "text": [
            "Scraping Traveloka...\n"
          ]
        }
      ]
    },
    {
      "cell_type": "code",
      "source": [
        "# Simpan hasilnya ke DataFrame\n",
        "df = pd.DataFrame([{\n",
        "    'app': app_name,\n",
        "    'userName': r['userName'],\n",
        "    'score': r['score'],\n",
        "    'content': r['content'],\n",
        "    'at': r['at'],\n",
        "    'thumbsUpCount': r['thumbsUpCount']\n",
        "} for r in Traveloka_reviews])\n",
        "\n",
        "# Simpan ke CSV\n",
        "df.to_csv('Traveloka_reviews.csv', index=False)\n",
        "print(f\"Jumlah review yang berhasil dikumpulkan: {len(df)}\")"
      ],
      "metadata": {
        "id": "in5WaK964Vjt",
        "outputId": "1ccac889-ffcc-4c3e-89ab-2c66f10517d3",
        "colab": {
          "base_uri": "https://localhost:8080/"
        }
      },
      "execution_count": null,
      "outputs": [
        {
          "output_type": "stream",
          "name": "stdout",
          "text": [
            "Jumlah review yang berhasil dikumpulkan: 15000\n"
          ]
        }
      ]
    }
  ]
}